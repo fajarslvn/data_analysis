{
  "nbformat": 4,
  "nbformat_minor": 0,
  "metadata": {
    "colab": {
      "name": "web_dashboard.ipynb",
      "provenance": [],
      "collapsed_sections": [],
      "mount_file_id": "1uVZ_PrUi8oW39OCJ75KApFBYwjixoiQv",
      "authorship_tag": "ABX9TyNhExxZHU43BxKD+I4ieLe1"
    },
    "kernelspec": {
      "name": "python3",
      "display_name": "Python 3"
    },
    "accelerator": "GPU"
  },
  "cells": [
    {
      "cell_type": "markdown",
      "metadata": {
        "id": "U72a7RNUOQwh"
      },
      "source": [
        "# Web Application Dashboard"
      ]
    },
    {
      "cell_type": "markdown",
      "metadata": {
        "id": "MANiIAe0ObhS"
      },
      "source": [
        "#### Import libraries"
      ]
    },
    {
      "cell_type": "code",
      "metadata": {
        "id": "K3PO4q5GIUsd"
      },
      "source": [
        "import numpy as np\n",
        "import matplotlib.pyplot as plt\n",
        "import pandas as pd\n",
        "\n",
        "import dash\n",
        "import dash_core_components as dcc\n",
        "import dash_html_components as html\n",
        "from dash.dependencies import Input, Output"
      ],
      "execution_count": 6,
      "outputs": []
    },
    {
      "cell_type": "markdown",
      "metadata": {
        "id": "ggrvKdlrOmqm"
      },
      "source": [
        "#### Import csv file from repo"
      ]
    },
    {
      "cell_type": "code",
      "metadata": {
        "id": "aL5eS79tLA5Y"
      },
      "source": [
        "app = dash.Dash(__name__)\n",
        "df = pd.read_csv('intro_bees.csv')\n",
        "df.columns"
      ],
      "execution_count": 5,
      "outputs": []
    },
    {
      "cell_type": "markdown",
      "metadata": {
        "id": "-N2xGSnRPykr"
      },
      "source": [
        "#### Clean the data"
      ]
    },
    {
      "cell_type": "code",
      "metadata": {
        "id": "0U1lhSakPoqE"
      },
      "source": [
        "df = df.groupby(['State', 'ANSI', 'Affected by', 'Year', 'state_code'])[['Pct of Colonies Impacted']].mean()\n",
        "df.reset_index(inplace=True)\n",
        "df.head()"
      ],
      "execution_count": null,
      "outputs": []
    },
    {
      "cell_type": "markdown",
      "metadata": {
        "id": "8T5bQRNXP544"
      },
      "source": [
        "#### Set application layout"
      ]
    },
    {
      "cell_type": "code",
      "metadata": {
        "id": "mjmqX_-jP-pO"
      },
      "source": [
        "app.layout = html.Div([\n",
        "    html.H1('Web App Dashboard', style={'text-align': 'center'}),\n",
        "    dcc.Dropdown(id='slct_year',\n",
        "                 options=[\n",
        "                     {'label':'2015', 'value': 2015},\n",
        "                     {'label':'2015', 'value': 2016},\n",
        "                     {'label':'2015', 'value': 2017},\n",
        "                     {'label':'2015', 'value': 2018}],\n",
        "                 multi=False, value=2015, style={'width': '40%'}\n",
        "                ),\n",
        "    html.Div(id='output_container', children=[]),\n",
        "    html.Br(),\n",
        "    dcc.Graph(id='my_bee_map', figure={})\n",
        "])"
      ],
      "execution_count": null,
      "outputs": []
    },
    {
      "cell_type": "markdown",
      "metadata": {
        "id": "xg5ymD-KQBqk"
      },
      "source": [
        "#### Set App callback"
      ]
    },
    {
      "cell_type": "code",
      "metadata": {
        "id": "kPUBic5CQGQt"
      },
      "source": [
        "@app.callback(\n",
        "    [Output(component_id='output_container', component_property='children'),\n",
        "    Output(component_id='my_bee_map', component_property='figure')],\n",
        "    [Input(component_id='slct_year', component_property='value')]\n",
        ")\n",
        "\n",
        "def update_graph(option_slctd):\n",
        "    print(option_slctd)\n",
        "    print(type(option_slctd))\n",
        "    container = f'The year chosen by user was: {option_slctd}'\n",
        "    \n",
        "    dff = df.copy()\n",
        "    dff = dff[dff['Year'] == option_slctd]\n",
        "    dff = dff[dff['Affected by'] == 'Varroa_mites']"
      ],
      "execution_count": null,
      "outputs": []
    },
    {
      "cell_type": "markdown",
      "metadata": {
        "id": "0CUxaZynQHtT"
      },
      "source": [
        ""
      ]
    }
  ]
}
